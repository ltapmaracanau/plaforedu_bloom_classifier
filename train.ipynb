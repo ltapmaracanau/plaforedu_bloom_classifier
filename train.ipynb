{
 "cells": [
  {
   "cell_type": "code",
   "execution_count": 1,
   "metadata": {},
   "outputs": [],
   "source": [
    "import os\n",
    "import shutil\n",
    "import numpy as np\n",
    "import pandas as pd\n",
    "import torch\n",
    "import torch.nn as nn\n",
    "from torch.utils.data import Dataset, DataLoader, random_split\n",
    "from transformers import AutoTokenizer, AutoModel, pipeline\n",
    "from sklearn.model_selection import train_test_split\n",
    "from tqdm.notebook import tqdm\n",
    "import matplotlib.pyplot as plt\n",
    "import seaborn as sns\n",
    "from torchninja import Trainer"
   ]
  },
  {
   "cell_type": "code",
   "execution_count": 2,
   "metadata": {},
   "outputs": [],
   "source": [
    "device = torch.device('cuda:0') if torch.cuda.is_available() else torch.device('cpu')"
   ]
  },
  {
   "cell_type": "code",
   "execution_count": 3,
   "metadata": {},
   "outputs": [
    {
     "name": "stdout",
     "output_type": "stream",
     "text": [
      "['remember', 'understand', 'apply', 'analyze', 'evaluate', 'create']\n"
     ]
    },
    {
     "data": {
      "text/html": [
       "<div>\n",
       "<style scoped>\n",
       "    .dataframe tbody tr th:only-of-type {\n",
       "        vertical-align: middle;\n",
       "    }\n",
       "\n",
       "    .dataframe tbody tr th {\n",
       "        vertical-align: top;\n",
       "    }\n",
       "\n",
       "    .dataframe thead th {\n",
       "        text-align: right;\n",
       "    }\n",
       "</style>\n",
       "<table border=\"1\" class=\"dataframe\">\n",
       "  <thead>\n",
       "    <tr style=\"text-align: right;\">\n",
       "      <th></th>\n",
       "      <th>text</th>\n",
       "      <th>remember</th>\n",
       "      <th>understand</th>\n",
       "      <th>apply</th>\n",
       "      <th>analyze</th>\n",
       "      <th>evaluate</th>\n",
       "      <th>create</th>\n",
       "      <th>one_hot</th>\n",
       "    </tr>\n",
       "  </thead>\n",
       "  <tbody>\n",
       "    <tr>\n",
       "      <th>0</th>\n",
       "      <td>Analisar as implicações econômicas para a saúd...</td>\n",
       "      <td>0.0</td>\n",
       "      <td>0.0</td>\n",
       "      <td>0.0</td>\n",
       "      <td>1.0</td>\n",
       "      <td>0.0</td>\n",
       "      <td>0.0</td>\n",
       "      <td>[0.0, 0.0, 0.0, 1.0, 0.0, 0.0]</td>\n",
       "    </tr>\n",
       "    <tr>\n",
       "      <th>1</th>\n",
       "      <td>Aplicar competências de investigação para func...</td>\n",
       "      <td>0.0</td>\n",
       "      <td>0.0</td>\n",
       "      <td>1.0</td>\n",
       "      <td>0.0</td>\n",
       "      <td>0.0</td>\n",
       "      <td>0.0</td>\n",
       "      <td>[0.0, 0.0, 1.0, 0.0, 0.0, 0.0]</td>\n",
       "    </tr>\n",
       "    <tr>\n",
       "      <th>2</th>\n",
       "      <td>Avaliação e síntese de diversas informações so...</td>\n",
       "      <td>0.0</td>\n",
       "      <td>0.0</td>\n",
       "      <td>0.0</td>\n",
       "      <td>0.0</td>\n",
       "      <td>1.0</td>\n",
       "      <td>1.0</td>\n",
       "      <td>[0.0, 0.0, 0.0, 0.0, 1.0, 1.0]</td>\n",
       "    </tr>\n",
       "    <tr>\n",
       "      <th>3</th>\n",
       "      <td>Descreva as características gerais do moderno ...</td>\n",
       "      <td>0.0</td>\n",
       "      <td>1.0</td>\n",
       "      <td>0.0</td>\n",
       "      <td>0.0</td>\n",
       "      <td>0.0</td>\n",
       "      <td>0.0</td>\n",
       "      <td>[0.0, 1.0, 0.0, 0.0, 0.0, 0.0]</td>\n",
       "    </tr>\n",
       "    <tr>\n",
       "      <th>4</th>\n",
       "      <td>Avaliação dos diferentes modelos de cuidados p...</td>\n",
       "      <td>0.0</td>\n",
       "      <td>0.0</td>\n",
       "      <td>0.0</td>\n",
       "      <td>0.0</td>\n",
       "      <td>1.0</td>\n",
       "      <td>0.0</td>\n",
       "      <td>[0.0, 0.0, 0.0, 0.0, 1.0, 0.0]</td>\n",
       "    </tr>\n",
       "  </tbody>\n",
       "</table>\n",
       "</div>"
      ],
      "text/plain": [
       "                                                text  remember  understand   \n",
       "0  Analisar as implicações econômicas para a saúd...       0.0         0.0  \\\n",
       "1  Aplicar competências de investigação para func...       0.0         0.0   \n",
       "2  Avaliação e síntese de diversas informações so...       0.0         0.0   \n",
       "3  Descreva as características gerais do moderno ...       0.0         1.0   \n",
       "4  Avaliação dos diferentes modelos de cuidados p...       0.0         0.0   \n",
       "\n",
       "   apply  analyze  evaluate  create                         one_hot  \n",
       "0    0.0      1.0       0.0     0.0  [0.0, 0.0, 0.0, 1.0, 0.0, 0.0]  \n",
       "1    1.0      0.0       0.0     0.0  [0.0, 0.0, 1.0, 0.0, 0.0, 0.0]  \n",
       "2    0.0      0.0       1.0     1.0  [0.0, 0.0, 0.0, 0.0, 1.0, 1.0]  \n",
       "3    0.0      0.0       0.0     0.0  [0.0, 1.0, 0.0, 0.0, 0.0, 0.0]  \n",
       "4    0.0      0.0       1.0     0.0  [0.0, 0.0, 0.0, 0.0, 1.0, 0.0]  "
      ]
     },
     "execution_count": 3,
     "metadata": {},
     "output_type": "execute_result"
    }
   ],
   "source": [
    "df = pd.read_csv('bloom_dataset_ptbr.csv')\n",
    "\n",
    "df.fillna(0, inplace=True)\n",
    "df['one_hot'] = list(df.iloc[:, 1:-1].values)\n",
    "\n",
    "LABELS = list(df.iloc[:, 1:-1])\n",
    "print(LABELS)\n",
    "\n",
    "df.head()"
   ]
  },
  {
   "cell_type": "code",
   "execution_count": 4,
   "metadata": {},
   "outputs": [],
   "source": [
    "class BloomDataset(Dataset):\n",
    "    def __init__(self, df):\n",
    "        self.df = df\n",
    "\n",
    "    def __getitem__(self, index):\n",
    "        text, one_hot = df.loc[index, ['text', 'one_hot']]\n",
    "        target = torch.tensor(one_hot).float()\n",
    "        return text, target\n",
    "\n",
    "    def __len__(self):\n",
    "        return len(self.df)"
   ]
  },
  {
   "cell_type": "code",
   "execution_count": 5,
   "metadata": {},
   "outputs": [],
   "source": [
    "LABELS = ['remember', 'understand', 'apply', 'analyze', 'evaluate', 'create']\n",
    "\n",
    "class CognitiveClassifier(nn.Module):\n",
    "    def __init__(\n",
    "        self,\n",
    "        num_cognitive_processes=6,\n",
    "        bert_model='neuralmind/bert-base-portuguese-cased',\n",
    "        freeze_bert=True,\n",
    "        labels=LABELS\n",
    "    ):\n",
    "        super().__init__()\n",
    "        self.num_cognitive_processes = num_cognitive_processes\n",
    "        self.tokenizer = AutoTokenizer.from_pretrained(bert_model)\n",
    "        self.encoder = AutoModel.from_pretrained(bert_model)\n",
    "        self.fc = nn.Linear(self.encoder.config.hidden_size, num_cognitive_processes)\n",
    "        self.labels = labels\n",
    "\n",
    "        if freeze_bert:\n",
    "            for param in self.encoder.parameters():\n",
    "                param.requires_grad = False\n",
    "\n",
    "    def forward(self, **kwargs):\n",
    "        encodings = self.encoder(**kwargs).last_hidden_state\n",
    "        encodings = encodings[:, 0, :]\n",
    "        outputs = self.fc(encodings)\n",
    "        outputs = torch.sigmoid(outputs)\n",
    "        return outputs\n",
    "\n",
    "    def encode(self, **kwargs):\n",
    "        encodings = self.encoder(**kwargs).last_hidden_state\n",
    "        encodings = encodings[:, 0, :]\n",
    "        return encodings\n",
    "\n",
    "    def predict(self, text, return_labels=True, threshold=0.5):\n",
    "        inputs = self.tokenizer(text, return_tensors='pt', padding=True).to(self.encoder.device)\n",
    "        outputs = (self.forward(**inputs) > threshold).int().squeeze()\n",
    "\n",
    "        if return_labels:\n",
    "            outputs = [LABELS[i] for i in range(len(self.labels)) if outputs[i]]\n",
    "\n",
    "        return outputs"
   ]
  },
  {
   "cell_type": "code",
   "execution_count": 20,
   "metadata": {},
   "outputs": [],
   "source": [
    "df_train, df_test = train_test_split(df, test_size=0.2)\n",
    "\n",
    "train_set = BloomDataset(df_train)\n",
    "test_set = BloomDataset(df_test)\n",
    "\n",
    "data_loaders = {\n",
    "    'train': DataLoader(train_set, batch_size=16, shuffle=True),\n",
    "    'val': DataLoader(test_set, batch_size=16, shuffle=True)\n",
    "    \n",
    "}\n",
    "test_loader = data_loaders['val']"
   ]
  },
  {
   "cell_type": "code",
   "execution_count": 21,
   "metadata": {},
   "outputs": [
    {
     "name": "stderr",
     "output_type": "stream",
     "text": [
      "Some weights of the model checkpoint at neuralmind/bert-base-portuguese-cased were not used when initializing BertModel: ['cls.predictions.bias', 'cls.predictions.transform.dense.bias', 'cls.predictions.transform.LayerNorm.bias', 'cls.predictions.decoder.weight', 'cls.seq_relationship.weight', 'cls.predictions.transform.LayerNorm.weight', 'cls.seq_relationship.bias', 'cls.predictions.transform.dense.weight']\n",
      "- This IS expected if you are initializing BertModel from the checkpoint of a model trained on another task or with another architecture (e.g. initializing a BertForSequenceClassification model from a BertForPreTraining model).\n",
      "- This IS NOT expected if you are initializing BertModel from the checkpoint of a model that you expect to be exactly identical (initializing a BertForSequenceClassification model from a BertForSequenceClassification model).\n"
     ]
    }
   ],
   "source": [
    "model = CognitiveClassifier(bert_model='neuralmind/bert-base-portuguese-cased', freeze_bert=False)\n",
    "\n",
    "criterion = nn.BCELoss()\n",
    "optimizer = torch.optim.Adam(model.parameters(), lr=0.00002)"
   ]
  },
  {
   "cell_type": "code",
   "execution_count": 22,
   "metadata": {},
   "outputs": [
    {
     "name": "stderr",
     "output_type": "stream",
     "text": [
      "                                                                        \r"
     ]
    },
    {
     "data": {
      "image/png": "[encoded data removed]",
      "text/plain": [
       "<Figure size 600x400 with 1 Axes>"
      ]
     },
     "metadata": {},
     "output_type": "display_data"
    }
   ],
   "source": [
    "class BloomTrainer(Trainer):\n",
    "    def training_step(self, batch, batch_idx):\n",
    "        text, target = batch\n",
    "        inputs = self.model.tokenizer(text, return_tensors='pt', padding=True, truncation=True, max_length=512).to(self.device)\n",
    "        pred = self.model(**inputs)\n",
    "        loss = self.criterion(pred, target)\n",
    "        metrics = {'loss': loss}\n",
    "        return metrics\n",
    "\n",
    "    def validation_step(self, batch, batch_idx):\n",
    "        text, target = batch\n",
    "        inputs = self.model.tokenizer(text, return_tensors='pt', padding=True, truncation=True, max_length=512).to(self.device)\n",
    "        pred = (self.model(**inputs) > 0.5).float()\n",
    "        loss = self.criterion(pred, target)\n",
    "        acc = ((pred == target).int().sum()/pred.numel())\n",
    "        metrics = {'loss': loss, 'acc': acc}\n",
    "        return metrics\n",
    "\n",
    "    def test_step(self, batch, batch_idx):\n",
    "        text, target = batch\n",
    "        inputs = self.model.tokenizer(text, return_tensors='pt', padding=True, truncation=True, max_length=512).to(self.device)\n",
    "        pred = (self.model(**inputs) > 0.5).float()\n",
    "        loss = self.criterion(pred, target)\n",
    "        acc = ((pred == target).int().sum()/pred.numel())\n",
    "        metrics = {'loss': loss, 'acc': acc}\n",
    "        return metrics\n",
    "\n",
    "trainer = BloomTrainer(\n",
    "    run_name='bloom_classifier_pt_2',\n",
    "    model=model,\n",
    "    criterion=criterion,\n",
    "    optimizer=optimizer,\n",
    "    use_mixed_precision=False,\n",
    "    data_loaders=data_loaders,\n",
    "    log_to='file',\n",
    ")\n",
    "\n",
    "metrics = trainer.train(epochs=20)"
   ]
  },
  {
   "cell_type": "code",
   "execution_count": 23,
   "metadata": {},
   "outputs": [
    {
     "data": {
      "text/plain": [
       "{'train': {'loss': [0.17932893813241854,\n",
       "   0.10971666779978963,\n",
       "   0.0857899336935386,\n",
       "   0.06724552774385412,\n",
       "   0.05199089691816534,\n",
       "   0.04106239817289059,\n",
       "   0.03280828529237042,\n",
       "   0.02567995322948379,\n",
       "   0.02198639693491377,\n",
       "   0.018726225708671423,\n",
       "   0.014965029014209137,\n",
       "   0.013401628577000557,\n",
       "   0.013479608081898001,\n",
       "   0.009954183142171813,\n",
       "   0.009784424913153261,\n",
       "   0.009373668852084472,\n",
       "   0.007096188772997712,\n",
       "   0.009417916621572457,\n",
       "   0.00708109343091093,\n",
       "   0.007466813932568047]},\n",
       " 'val': {'loss': [2.7207712691221664,\n",
       "   1.8151431226018648,\n",
       "   1.3487252041475097,\n",
       "   0.8512127426133227,\n",
       "   0.6840796443953443,\n",
       "   0.45864430915063886,\n",
       "   0.2992848469250238,\n",
       "   0.22932215590975177,\n",
       "   0.1826803613064894,\n",
       "   0.09717040542346328,\n",
       "   0.10105722164040182,\n",
       "   0.10105722075078025,\n",
       "   0.0738495081218321,\n",
       "   0.06607587568795503,\n",
       "   0.124378118942033,\n",
       "   0.02332089730163119,\n",
       "   0.019434081084692655,\n",
       "   0.13215175137591006,\n",
       "   0.04664179460326238,\n",
       "   0.04664179460326238],\n",
       "  'acc': [0.9727923096115909,\n",
       "   0.9818485886303346,\n",
       "   0.9865127659555691,\n",
       "   0.9914878882578949,\n",
       "   0.9931592162865311,\n",
       "   0.9954135675928486,\n",
       "   0.9970071587099958,\n",
       "   0.9977067855756674,\n",
       "   0.9981732017068721,\n",
       "   0.9990282992818462,\n",
       "   0.9989894310485071,\n",
       "   0.9989894308261017,\n",
       "   0.9992615073474486,\n",
       "   0.999339243369316,\n",
       "   0.9987562227604995,\n",
       "   0.9997667917119923,\n",
       "   0.9998056599453314,\n",
       "   0.9986784869610373,\n",
       "   0.99953358364639,\n",
       "   0.9995335829791738]}}"
      ]
     },
     "execution_count": 23,
     "metadata": {},
     "output_type": "execute_result"
    }
   ],
   "source": [
    "metrics"
   ]
  },
  {
   "cell_type": "code",
   "execution_count": null,
   "metadata": {},
   "outputs": [],
   "source": []
  }
 ],
 "metadata": {
  "kernelspec": {
   "display_name": "base",
   "language": "python",
   "name": "python3"
  },
  "language_info": {
   "codemirror_mode": {
    "name": "ipython",
    "version": 3
   },
   "file_extension": ".py",
   "mimetype": "text/x-python",
   "name": "python",
   "nbconvert_exporter": "python",
   "pygments_lexer": "ipython3",
   "version": "3.10.13"
  }
 },
 "nbformat": 4,
 "nbformat_minor": 2
}
